{
 "cells": [
  {
   "cell_type": "markdown",
   "metadata": {},
   "source": [
    "# Capstone Project - The Battle of Neighborhoods"
   ]
  },
  {
   "cell_type": "markdown",
   "metadata": {},
   "source": [
    "## Introduction"
   ]
  },
  {
   "cell_type": "markdown",
   "metadata": {},
   "source": [
    "#### \"How to select the best home location in Milan?\"  \n",
    "My customer has a list of five home locations in Milan that are compatible with his budget. He wants to select the best place to live, according to the nearby venues. In particular, he wants to select the place that offers leisure time possibilities, such as Cinemas, theaters and restaurants and transportation services, such as Metro and Bus stations. He has a clear idea on which are his priorities and he asked me to analyze the neighborhood for each of the five home location candidates. "
   ]
  },
  {
   "cell_type": "markdown",
   "metadata": {},
   "source": [
    "#### Data section\n",
    "The data available for fulfill the task are:\n",
    " - the list of the 5 home location candidates with the corresponding coordinates\n",
    " - the list of the venue categories that are important for the neighborhood analysis\n",
    " - the weight that every venue category has in the decision, from 10 to 0 (10: highly important, 0: negligible)"
   ]
  }
 ],
 "metadata": {
  "kernelspec": {
   "display_name": "Python 3",
   "language": "python",
   "name": "python3"
  },
  "language_info": {
   "codemirror_mode": {
    "name": "ipython",
    "version": 3
   },
   "file_extension": ".py",
   "mimetype": "text/x-python",
   "name": "python",
   "nbconvert_exporter": "python",
   "pygments_lexer": "ipython3",
   "version": "3.6.5"
  }
 },
 "nbformat": 4,
 "nbformat_minor": 2
}
